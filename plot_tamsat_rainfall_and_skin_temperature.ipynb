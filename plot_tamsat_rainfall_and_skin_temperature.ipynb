{
 "cells": [
  {
   "cell_type": "markdown",
   "metadata": {
    "hide_input": true
   },
   "source": [
    "# Plot TAMSAT rainfall and skin temperature"
   ]
  },
  {
   "cell_type": "code",
   "execution_count": 2,
   "metadata": {
    "editable": false,
    "hide_input": false,
    "init_cell": true
   },
   "outputs": [
    {
     "data": {
      "application/vnd.jupyter.widget-view+json": {
       "model_id": "1a40eb7f4f7b4c329c1932fa3c8c35c9",
       "version_major": 2,
       "version_minor": 0
      },
      "text/plain": [
       "BoundedFloatText(value=7.5, description='Latitude (y):', layout=Layout(height='30px', width='400px'), max=90.0…"
      ]
     },
     "metadata": {},
     "output_type": "display_data"
    },
    {
     "data": {
      "application/vnd.jupyter.widget-view+json": {
       "model_id": "e2f7119eb99e4d76b3f434821c05b3d8",
       "version_major": 2,
       "version_minor": 0
      },
      "text/plain": [
       "BoundedFloatText(value=7.5, description='Longitude (x):', layout=Layout(height='30px', width='400px'), max=180…"
      ]
     },
     "metadata": {},
     "output_type": "display_data"
    },
    {
     "data": {
      "application/vnd.jupyter.widget-view+json": {
       "model_id": "f94d5bb441d04b53beb16eb17d00507b",
       "version_major": 2,
       "version_minor": 0
      },
      "text/plain": [
       "DatePicker(value=datetime.datetime(2000, 1, 1, 0, 0), description='Start: ', layout=Layout(height='30px', widt…"
      ]
     },
     "metadata": {},
     "output_type": "display_data"
    },
    {
     "data": {
      "application/vnd.jupyter.widget-view+json": {
       "model_id": "13e2488cf39747c7b2e414fca916ed84",
       "version_major": 2,
       "version_minor": 0
      },
      "text/plain": [
       "DatePicker(value=datetime.datetime(2000, 2, 1, 0, 0), description='End: ', layout=Layout(height='30px', width=…"
      ]
     },
     "metadata": {},
     "output_type": "display_data"
    },
    {
     "data": {
      "application/vnd.jupyter.widget-view+json": {
       "model_id": "86f0a61d20eb4e26867227acfaf5c2f8",
       "version_major": 2,
       "version_minor": 0
      },
      "text/plain": [
       "LoadedButton(button_style='primary', description='Get Data', layout=Layout(height='30px', width='400px'), styl…"
      ]
     },
     "metadata": {},
     "output_type": "display_data"
    },
    {
     "data": {
      "application/vnd.jupyter.widget-view+json": {
       "model_id": "38fea55270ff42ec840fabbbb737c3c9",
       "version_major": 2,
       "version_minor": 0
      },
      "text/plain": [
       "Output()"
      ]
     },
     "metadata": {},
     "output_type": "display_data"
    }
   ],
   "source": [
    "import sys\n",
    "sys.path.append(\"helpers\")\n",
    "import helpers.helpers as helpers\n",
    "import datetime\n",
    "%matplotlib inline\n",
    "\n",
    "def on_button_clicked(b):\n",
    "    h = helpers.Helpers(out)\n",
    "    h.compare_rfe_skt_time(longitude.value, latitude.value, start.value, end.value)\n",
    "\n",
    "#widgets \n",
    "w = helpers.Widgets()\n",
    "latitude, longitude = w.get_lat_lon_widgets()\n",
    "start = w.get_date(datetime.datetime(2000,1,1), 'Start: ')\n",
    "end = w.get_date(datetime.datetime(2000,2,1), 'End: ')\n",
    "button = w.set_up_button(on_button_clicked)\n",
    "w.display_widget([latitude, longitude, start, end, button])\n",
    "out = w.display_output()"
   ]
  }
 ],
 "metadata": {
  "kernelspec": {
   "display_name": "Python 3",
   "language": "python",
   "name": "python3"
  },
  "language_info": {
   "codemirror_mode": {
    "name": "ipython",
    "version": 3
   },
   "file_extension": ".py",
   "mimetype": "text/x-python",
   "name": "python",
   "nbconvert_exporter": "python",
   "pygments_lexer": "ipython3",
   "version": "3.7.3"
  }
 },
 "nbformat": 4,
 "nbformat_minor": 2
}
