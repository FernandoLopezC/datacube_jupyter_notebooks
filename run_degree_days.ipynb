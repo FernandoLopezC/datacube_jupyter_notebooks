{
 "cells": [
  {
   "cell_type": "markdown",
   "metadata": {
    "hide_input": false
   },
   "source": [
    "# Calculate Degree Days for Custom Pest"
   ]
  },
  {
   "cell_type": "code",
   "execution_count": 1,
   "metadata": {
    "editable": false,
    "hide_input": false,
    "init_cell": true
   },
   "outputs": [
    {
     "data": {
      "application/vnd.jupyter.widget-view+json": {
       "model_id": "e27f58b0379545629fcf90a80b7550ca",
       "version_major": 2,
       "version_minor": 0
      },
      "text/plain": [
       "BoundedFloatText(value=7.5, description='Latitude (y):', layout=Layout(height='30px', width='400px'), max=90.0…"
      ]
     },
     "metadata": {},
     "output_type": "display_data"
    },
    {
     "data": {
      "application/vnd.jupyter.widget-view+json": {
       "model_id": "eb497d00138a41f1885bee532247709b",
       "version_major": 2,
       "version_minor": 0
      },
      "text/plain": [
       "BoundedFloatText(value=7.5, description='Longitude (x):', layout=Layout(height='30px', width='400px'), max=180…"
      ]
     },
     "metadata": {},
     "output_type": "display_data"
    },
    {
     "data": {
      "application/vnd.jupyter.widget-view+json": {
       "model_id": "0c2d186372ec4730ab2efaacc145c737",
       "version_major": 2,
       "version_minor": 0
      },
      "text/plain": [
       "DatePicker(value=datetime.datetime(2000, 1, 1, 0, 0), description='Start Date: ', layout=Layout(height='30px',…"
      ]
     },
     "metadata": {},
     "output_type": "display_data"
    },
    {
     "data": {
      "application/vnd.jupyter.widget-view+json": {
       "model_id": "f5b91475a4bf4b69ae9714cb2fe5c597",
       "version_major": 2,
       "version_minor": 0
      },
      "text/plain": [
       "DatePicker(value=datetime.datetime(2000, 2, 1, 0, 0), description='EndDate: ', layout=Layout(height='30px', wi…"
      ]
     },
     "metadata": {},
     "output_type": "display_data"
    },
    {
     "data": {
      "application/vnd.jupyter.widget-view+json": {
       "model_id": "ffd175fc6f9940e282ad503a71e503d6",
       "version_major": 2,
       "version_minor": 0
      },
      "text/plain": [
       "BoundedFloatText(value=10.0, description='Lower threshold:', layout=Layout(height='30px', width='400px'), min=…"
      ]
     },
     "metadata": {},
     "output_type": "display_data"
    },
    {
     "data": {
      "application/vnd.jupyter.widget-view+json": {
       "model_id": "bb573058f18c4c6b893004a9103796b8",
       "version_major": 2,
       "version_minor": 0
      },
      "text/plain": [
       "BoundedFloatText(value=30.0, description='Upper threshold:', layout=Layout(height='30px', width='400px'), min=…"
      ]
     },
     "metadata": {},
     "output_type": "display_data"
    },
    {
     "data": {
      "application/vnd.jupyter.widget-view+json": {
       "model_id": "1909499a0b2d4f99bbb4a302c640b69c",
       "version_major": 2,
       "version_minor": 0
      },
      "text/plain": [
       "LoadedButton(button_style='primary', description='Get Data', layout=Layout(height='30px', width='400px'), styl…"
      ]
     },
     "metadata": {},
     "output_type": "display_data"
    },
    {
     "data": {
      "application/vnd.jupyter.widget-view+json": {
       "model_id": "cc5cc909036d444e8f86190964102ad7",
       "version_major": 2,
       "version_minor": 0
      },
      "text/plain": [
       "Output()"
      ]
     },
     "metadata": {},
     "output_type": "display_data"
    }
   ],
   "source": [
    "import sys\n",
    "sys.path.append(\"helpers\")\n",
    "import helpers.helpers as helpers\n",
    "%matplotlib inline\n",
    "\n",
    "def on_button_clicked(b): \n",
    "    h = helpers.Helpers(out)\n",
    "    h.calculate_degree_days(latitude.value,\n",
    "                            longitude.value,\n",
    "                            start.value,\n",
    "                            end.value,\n",
    "                            lower.value,\n",
    "                            upper.value)  \n",
    "\n",
    "wid = helpers.Widgets()\n",
    "start, end = wid.get_date_widgets()\n",
    "latitude, longitude = wid.get_lat_lon_widgets()\n",
    "lower = wid.degree_day_threshold(-10.0, 100.0, 10.0, \"Lower threshold:\")\n",
    "upper = wid.degree_day_threshold(-10.0, 100.0, 30.0, \"Upper threshold:\")\n",
    "button = wid.set_up_button(on_button_clicked)\n",
    "wid.display_widget([latitude, longitude, start, end, lower, upper, button])\n",
    "\n",
    "button = wid.set_up_button(on_button_clicked)\n",
    "out = wid.display_output()"
   ]
  }
 ],
 "metadata": {
  "kernelspec": {
   "display_name": "Python 3",
   "language": "python",
   "name": "python3"
  },
  "language_info": {
   "codemirror_mode": {
    "name": "ipython",
    "version": 3
   },
   "file_extension": ".py",
   "mimetype": "text/x-python",
   "name": "python",
   "nbconvert_exporter": "python",
   "pygments_lexer": "ipython3",
   "version": "3.7.3"
  }
 },
 "nbformat": 4,
 "nbformat_minor": 2
}
