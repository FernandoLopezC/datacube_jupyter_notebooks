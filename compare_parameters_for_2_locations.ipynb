{
 "cells": [
  {
   "cell_type": "markdown",
   "metadata": {
    "hide_input": true
   },
   "source": [
    "# Compare parameters for 2 locations"
   ]
  },
  {
   "cell_type": "code",
   "execution_count": 1,
   "metadata": {
    "editable": false,
    "hide_input": true,
    "init_cell": true
   },
   "outputs": [
    {
     "data": {
      "application/vnd.jupyter.widget-view+json": {
       "model_id": "f61260302e864fd290babeaa912a0826",
       "version_major": 2,
       "version_minor": 0
      },
      "text/plain": [
       "Dropdown(description='Product:', layout=Layout(height='30px', width='400px'), options=('chirps', 'tamsat', 'er…"
      ]
     },
     "metadata": {},
     "output_type": "display_data"
    },
    {
     "data": {
      "application/vnd.jupyter.widget-view+json": {
       "model_id": "2011f4b65a394272ae2a3409333c6b33",
       "version_major": 2,
       "version_minor": 0
      },
      "text/plain": [
       "Dropdown(description='Subproduct:', layout=Layout(height='30px', width='400px'), options=(), value=None)"
      ]
     },
     "metadata": {},
     "output_type": "display_data"
    },
    {
     "data": {
      "application/vnd.jupyter.widget-view+json": {
       "model_id": "2dd6b46ee1a84eab92ec33914eb16e15",
       "version_major": 2,
       "version_minor": 0
      },
      "text/plain": [
       "BoundedFloatText(value=-1.3, description='Latitude 1: ', layout=Layout(height='30px', width='400px'), max=180.…"
      ]
     },
     "metadata": {},
     "output_type": "display_data"
    },
    {
     "data": {
      "application/vnd.jupyter.widget-view+json": {
       "model_id": "479ccb9674414beb900d1650fd091c43",
       "version_major": 2,
       "version_minor": 0
      },
      "text/plain": [
       "BoundedFloatText(value=36.0, description='Longitude 1: ', layout=Layout(height='30px', width='400px'), max=180…"
      ]
     },
     "metadata": {},
     "output_type": "display_data"
    },
    {
     "data": {
      "application/vnd.jupyter.widget-view+json": {
       "model_id": "e58a09e324c34665a67bfb5e866a5369",
       "version_major": 2,
       "version_minor": 0
      },
      "text/plain": [
       "BoundedFloatText(value=-15.0, description='Latitude 2: ', layout=Layout(height='30px', width='400px'), max=180…"
      ]
     },
     "metadata": {},
     "output_type": "display_data"
    },
    {
     "data": {
      "application/vnd.jupyter.widget-view+json": {
       "model_id": "49ff90ff1e0540c8b6d99266d8f898dc",
       "version_major": 2,
       "version_minor": 0
      },
      "text/plain": [
       "BoundedFloatText(value=25.0, description='Longitude 2: ', layout=Layout(height='30px', width='400px'), max=180…"
      ]
     },
     "metadata": {},
     "output_type": "display_data"
    },
    {
     "data": {
      "application/vnd.jupyter.widget-view+json": {
       "model_id": "9863e925f0fa418e910f55794c273612",
       "version_major": 2,
       "version_minor": 0
      },
      "text/plain": [
       "DatePicker(value=datetime.datetime(2018, 1, 1, 0, 0), description='Start date: ', layout=Layout(height='30px',…"
      ]
     },
     "metadata": {},
     "output_type": "display_data"
    },
    {
     "data": {
      "application/vnd.jupyter.widget-view+json": {
       "model_id": "d07fc4bc23d24bf3851ab84dba58b485",
       "version_major": 2,
       "version_minor": 0
      },
      "text/plain": [
       "IntSlider(value=0, description='Start hour: ', layout=Layout(height='30px', width='400px'), max=23)"
      ]
     },
     "metadata": {},
     "output_type": "display_data"
    },
    {
     "data": {
      "application/vnd.jupyter.widget-view+json": {
       "model_id": "7463530616314345b935c383fdd96cea",
       "version_major": 2,
       "version_minor": 0
      },
      "text/plain": [
       "DatePicker(value=datetime.datetime(2018, 1, 10, 0, 0), description='End date: ', layout=Layout(height='30px', …"
      ]
     },
     "metadata": {},
     "output_type": "display_data"
    },
    {
     "data": {
      "application/vnd.jupyter.widget-view+json": {
       "model_id": "5b2e32c7f1a14b07bb03923fb9b1e783",
       "version_major": 2,
       "version_minor": 0
      },
      "text/plain": [
       "IntSlider(value=0, description='End hour: ', layout=Layout(height='30px', width='400px'), max=23)"
      ]
     },
     "metadata": {},
     "output_type": "display_data"
    },
    {
     "data": {
      "application/vnd.jupyter.widget-view+json": {
       "model_id": "31de908d8325434985cb0a43636ef86d",
       "version_major": 2,
       "version_minor": 0
      },
      "text/plain": [
       "LoadedButton(button_style='primary', description='Get Data', layout=Layout(height='30px', width='400px'), styl…"
      ]
     },
     "metadata": {},
     "output_type": "display_data"
    },
    {
     "data": {
      "application/vnd.jupyter.widget-view+json": {
       "model_id": "ad692ae8bc02498b85e04ad31d7f00f1",
       "version_major": 2,
       "version_minor": 0
      },
      "text/plain": [
       "Output()"
      ]
     },
     "metadata": {},
     "output_type": "display_data"
    }
   ],
   "source": [
    "import sys\n",
    "sys.path.append(\"helpers/\")\n",
    "import helpers.helpers as helpers\n",
    "import matplotlib\n",
    "%matplotlib inline\n",
    "matplotlib.use(\"nbagg\")\n",
    "\n",
    "import datetime\n",
    "\n",
    "def on_button_clicked(b):\n",
    "    h = helpers.Helpers(out)\n",
    "    m1 = h.compare_two_locations(product.value, subproduct.value, lat1.value, lon1.value, lat2.value, lon2.value,\n",
    "                                                  start_date, start_hour, end_date, end_hour)\n",
    "\n",
    "#widgets \n",
    "w = helpers.Widgets()\n",
    "product = w.product()\n",
    "subproduct = w.subproduct()\n",
    "lat1 = w.get_point(-1.3, 'Latitude 1: ')\n",
    "lon1 = w.get_point(36, 'Longitude 1: ')\n",
    "lat2 = w.get_point(-15.0, 'Latitude 2: ')\n",
    "lon2 = w.get_point(25.0, 'Longitude 2: ')\n",
    "start_date = w.get_date(datetime.datetime(2018,1,1), 'Start date: ')\n",
    "start_hour = w.get_hour('00', 'Start hour: ')\n",
    "end_date = w.get_date(datetime.datetime(2018,1,10), 'End date: ')\n",
    "end_hour = w.get_hour('00', 'End hour: ')\n",
    "button = w.set_up_button(on_button_clicked)\n",
    "w.display_widget([product, subproduct, lat1, lon1, lat2, lon2, start_date, start_hour, end_date, end_hour, button])\n",
    "out = w.display_output()\n",
    "\n",
    "def update(*args):\n",
    "    subproduct.options = w.get_subproduct_list(product.value)\n",
    "update()\n",
    "product.observe(update)\n"
   ]
  }
 ],
 "metadata": {
  "celltoolbar": "Edit Metadata",
  "kernelspec": {
   "display_name": "Python 3",
   "language": "python",
   "name": "python3"
  },
  "language_info": {
   "codemirror_mode": {
    "name": "ipython",
    "version": 3
   },
   "file_extension": ".py",
   "mimetype": "text/x-python",
   "name": "python",
   "nbconvert_exporter": "python",
   "pygments_lexer": "ipython3",
   "version": "3.7.3"
  }
 },
 "nbformat": 4,
 "nbformat_minor": 2
}
